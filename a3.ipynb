{
 "cells": [
  {
   "cell_type": "markdown",
   "id": "distinguished-crowd",
   "metadata": {},
   "source": [
    "---\n",
    "jupytext:\n",
    "  formats: ipynb,md:myst\n",
    "  text_representation:\n",
    "    extension: .md\n",
    "    format_name: myst\n",
    "    format_version: 0.12\n",
    "    jupytext_version: 1.6.0\n",
    "kernelspec:\n",
    "  display_name: Python 3\n",
    "  language: python\n",
    "  name: python3\n",
    "---\n",
    "\n",
    "# Aufgaben von Codewars python-sgl \n",
    "\n",
    "**I) Strings(.format(), .join())**\n",
    "\n",
    "*12 Aufgaben, 9 x acht Kyu, 2 x sieben Kyu 1 x sechs Kyu*\n",
    "\n",
    "**II) Conditional Return**\n",
    "\n",
    "*9 Aufgaben, 8 x acht Kyu, 1 x sieben Kyu*\n",
    "\n",
    "**III) List Comprehension**\n",
    "\n",
    "*18 Aufgaben, 10 x acht Kyu, 6 x sieben Kyu, 2 x sechs Kyu*\n",
    "\n",
    "## I) Strings (String.format())\n",
    "\n",
    "### 1) Find the Integral (8 Kyu)\n",
    "\n",
    "<https://www.codewars.com/kata/59811fd8a070625d4c000013>\n",
    "\n",
    "**Tags:** Fundamentals\n",
    "\n",
    "**Instruction:**\n",
    "\n",
    "Create a function that finds the integral of the expression passed.\n",
    "\n",
    "In order to find the integral all you need to do is add one to the exponent (the second argument), and divide the\n",
    "coefficient (the first argument) by that new number.\n",
    "\n",
    "For example for 3x^2, the integral would be 1x^3: we added 1 to the exponent, and divided the coefficient by that new\n",
    "number).\n",
    "\n",
    "Notes:\n",
    "\n",
    "The output should be a string.\n",
    "The coefficient and exponent is always a positive integer.\n",
    "\n",
    "**Examples:**"
   ]
  },
  {
   "cell_type": "markdown",
   "id": "standard-cartoon",
   "metadata": {},
   "source": [
    "\n",
    "3, 2  -->  \"1x^3\"\n",
    "12, 5  -->  \"2x^6\"\n",
    "20, 1  -->  \"10x^2\"\n",
    "40, 3  -->  \"10x^4\"\n",
    "90, 2  -->  \"30x^3\""
   ]
  },
  {
   "cell_type": "markdown",
   "id": "hydraulic-austin",
   "metadata": {},
   "source": [
    "**Solution:**"
   ]
  },
  {
   "cell_type": "code",
   "execution_count": 1,
   "id": "turned-gross",
   "metadata": {},
   "outputs": [],
   "source": [
    "def integrate(coefficient, exponent):\n",
    "    return f\"{int(coefficient/(exponent+1))}x^{exponent+1}\""
   ]
  },
  {
   "cell_type": "code",
   "execution_count": 2,
   "id": "utility-orleans",
   "metadata": {
    "scrolled": true
   },
   "outputs": [
    {
     "name": "stdout",
     "output_type": "stream",
     "text": [
      "30x^3\n"
     ]
    }
   ],
   "source": [
    "print(integrate(90,2))"
   ]
  },
  {
   "cell_type": "code",
   "execution_count": 3,
   "id": "exceptional-dancing",
   "metadata": {},
   "outputs": [
    {
     "name": "stdout",
     "output_type": "stream",
     "text": [
      "============================= test session starts ==============================\n",
      "platform linux -- Python 3.9.2, pytest-6.2.3, py-1.10.0, pluggy-0.13.1 -- /home/fburger/anaconda3/envs/dsci-txt/bin/python\n",
      "cachedir: .pytest_cache\n",
      "rootdir: /home/fburger/TextMining\n",
      "plugins: jupyter-pytest-2-1.0.1, notebook-0.6.1, anyio-2.2.0\n",
      "collecting ... collected 1 item\n",
      "\n",
      "::test_integrate PASSED                                                  [100%]\n",
      "\n",
      "============================== 1 passed in 0.01s ===============================\n"
     ]
    },
    {
     "data": {
      "text/plain": [
       "<ExitCode.OK: 0>"
      ]
     },
     "execution_count": 3,
     "metadata": {},
     "output_type": "execute_result"
    }
   ],
   "source": [
    "import pytest\n",
    "\n",
    "def test_integrate():\n",
    "    assert integrate(3,2) == \"1x^3\"\n",
    "    assert integrate(12,5) == \"2x^6\"\n",
    "    assert integrate(20,1) == \"10x^2\"\n",
    "    assert integrate(40,3) == \"10x^4\"\n",
    "    assert integrate(90,2) == \"30x^3\"\n",
    "\n",
    "\n",
    "pytest.main(args=['-v'])"
   ]
  },
  {
   "cell_type": "markdown",
   "id": "liquid-rolling",
   "metadata": {},
   "source": [
    "### 2) Take the Derivative (8 Kyu)\n",
    "\n",
    "<https://www.codewars.com/kata/5963c18ecb97be020b0000a2>\n",
    "\n",
    "**Tags:** Fundamentals\n",
    "\n",
    "**Instructions:**\n",
    "\n",
    "This function takes two numbers as parameters, the first number being the coefficient, and the second number being\n",
    "the exponent.\n",
    "\n",
    "Your function should multiply the two numbers, and then subtract 1 from the exponent. Then, it has to print out an\n",
    "expression (like 28x^7). \"^1\" should not be truncated when exponent = 2.\n",
    "\n",
    "**Example:**"
   ]
  },
  {
   "cell_type": "code",
   "execution_count": null,
   "id": "usual-scope",
   "metadata": {},
   "outputs": [],
   "source": [
    "derive(7, 8)"
   ]
  },
  {
   "cell_type": "markdown",
   "id": "intimate-harvard",
   "metadata": {},
   "source": [
    "In this case, the function should multiply 7 and 8, and then subtract 1 from 8. It should output \"56x^7\", the first\n",
    "number 56 being the product of the two numbers, and the second number being the exponent minus 1."
   ]
  },
  {
   "cell_type": "code",
   "execution_count": null,
   "id": "coated-faith",
   "metadata": {},
   "outputs": [],
   "source": [
    "derive(7, 8) --> this should output \"56x^7\" \n",
    "derive(5, 9) --> this should output \"45x^8\" "
   ]
  },
  {
   "cell_type": "markdown",
   "id": "reasonable-vietnamese",
   "metadata": {},
   "source": [
    "Notes:\n",
    "\n",
    "The output of this function should be a string\n",
    "The exponent will never be 1, and neither number will ever be 0\n",
    "\n",
    "**Solution:**"
   ]
  },
  {
   "cell_type": "code",
   "execution_count": null,
   "id": "colonial-danger",
   "metadata": {},
   "outputs": [],
   "source": [
    "def derive(coefficient, exponent): \n",
    "    "
   ]
  },
  {
   "cell_type": "code",
   "execution_count": null,
   "id": "israeli-means",
   "metadata": {},
   "outputs": [],
   "source": [
    "print(derive(5,9))"
   ]
  },
  {
   "cell_type": "markdown",
   "id": "satisfactory-november",
   "metadata": {},
   "source": [
    "### 3) Reversed Strings (8 Kyu)\n",
    "\n",
    "<https://www.codewars.com/kata/5168bb5dfe9a00b126000018>\n",
    "\n",
    "**Tags:** Fundamentals, Strings\n",
    "\n",
    "**Instructions:**\n",
    "\n",
    "Complete the solution so that it reverses the string passed into it.\n",
    "\n",
    "**Example:**"
   ]
  },
  {
   "cell_type": "code",
   "execution_count": null,
   "id": "common-raise",
   "metadata": {},
   "outputs": [],
   "source": [
    "'world'  =>  'dlrow'"
   ]
  },
  {
   "cell_type": "markdown",
   "id": "consolidated-regard",
   "metadata": {},
   "source": [
    "**Solution:**"
   ]
  },
  {
   "cell_type": "code",
   "execution_count": null,
   "id": "located-rental",
   "metadata": {},
   "outputs": [],
   "source": [
    "def solutionRev(string):\n",
    "    return string[::-1]"
   ]
  },
  {
   "cell_type": "code",
   "execution_count": null,
   "id": "ready-disease",
   "metadata": {},
   "outputs": [],
   "source": [
    "string = 'dlrow'\n",
    "print(solutionRev(string))"
   ]
  },
  {
   "cell_type": "markdown",
   "id": "brutal-burlington",
   "metadata": {},
   "source": [
    "### 4) Fake Binary (8 Kyu)\n",
    "\n",
    "<https://www.codewars.com/kata/57eae65a4321032ce000002d/python>\n",
    "\n",
    "**Tags:** Fundamentals, Strings, Arrays\n",
    "\n",
    "**Instructions:**\n",
    "\n",
    "Given a string of digits, you should replace any digit below 5 with '0' and any digit 5 and above with '1'. Return the resulting string.\n",
    "\n",
    "**Solution:**"
   ]
  },
  {
   "cell_type": "code",
   "execution_count": null,
   "id": "liked-paste",
   "metadata": {},
   "outputs": [],
   "source": [
    "def fake_bin(x):\n",
    "    if len(x) == 1:\n",
    "        return '0' if int(x) < 5 else '1'\n",
    "    else:\n",
    "        return fake_bin(x[0]) + fake_bin(x[1:])"
   ]
  },
  {
   "cell_type": "code",
   "execution_count": null,
   "id": "robust-affairs",
   "metadata": {},
   "outputs": [],
   "source": [
    "x = \"51513215\"\n",
    "print(fake_bin(x))"
   ]
  },
  {
   "cell_type": "markdown",
   "id": "medium-march",
   "metadata": {},
   "source": [
    "## 5) Multiplication table for number (8 Kyu)\n",
    "\n",
    "<https://www.codewars.com/kata/5a2fd38b55519ed98f0000ce>\n",
    "\n",
    "**Tags:** Fundamentals, Strings, Basic Language Features\n",
    "\n",
    "**Instructions:**\n",
    "\n",
    "Your goal is to return multiplication table for number that is always an integer from 1 to 10.\n",
    "\n",
    "For **example**, a multiplication table (string) for number == 5 looks like below:"
   ]
  },
  {
   "cell_type": "code",
   "execution_count": null,
   "id": "unexpected-hindu",
   "metadata": {},
   "outputs": [],
   "source": [
    "1 * 5 = 5\n",
    "2 * 5 = 10\n",
    "3 * 5 = 15\n",
    "4 * 5 = 20\n",
    "5 * 5 = 25\n",
    "6 * 5 = 30\n",
    "7 * 5 = 35\n",
    "8 * 5 = 40\n",
    "9 * 5 = 45\n",
    "10 * 5 = 50"
   ]
  },
  {
   "cell_type": "markdown",
   "id": "formed-apparel",
   "metadata": {},
   "source": [
    "P. S. You can use \\n in string to jump to the next line.\n",
    "\n",
    "Note: newlines should be added between rows, but there should be no trailing newline at the end.\n",
    "\n",
    "**Solution:**"
   ]
  },
  {
   "cell_type": "code",
   "execution_count": null,
   "id": "continental-terminal",
   "metadata": {},
   "outputs": [],
   "source": [
    "def multi_table(number):\n",
    "    str = ''\n",
    "    for x in range(1,11):\n",
    "        str = str + f'{x} * {number} = {x*number}\\n'\n",
    "    return str\n",
    "        "
   ]
  },
  {
   "cell_type": "code",
   "execution_count": null,
   "id": "emotional-screening",
   "metadata": {},
   "outputs": [],
   "source": [
    "number = 5\n",
    "print(multi_table(number))"
   ]
  },
  {
   "cell_type": "markdown",
   "id": "olive-letter",
   "metadata": {},
   "source": [
    "### 6) Abbreviate a Two Word Name (8 Kyu)\n",
    "\n",
    "<https://www.codewars.com/kata/57eadb7ecd143f4c9c0000a3/python>\n",
    "\n",
    "**Tags:** Fundamentals, Strings, Arrays\n",
    "\n",
    "**Instructions:**\n",
    "\n",
    "Write a function to convert a name into initials. This kata strictly takes two words with one space in between them.\n",
    "\n",
    "The output should be two capital letters with a dot separating them.\n",
    "\n",
    "**Example:**"
   ]
  },
  {
   "cell_type": "code",
   "execution_count": null,
   "id": "funky-typing",
   "metadata": {},
   "outputs": [],
   "source": [
    "Sam Harris => S.H\n",
    "\n",
    "Patrick Feeney => P.F"
   ]
  },
  {
   "cell_type": "markdown",
   "id": "informal-casting",
   "metadata": {},
   "source": [
    "**Solution:**"
   ]
  },
  {
   "cell_type": "code",
   "execution_count": null,
   "id": "spatial-thousand",
   "metadata": {},
   "outputs": [],
   "source": [
    "def abbrevName(name):\n",
    "    [first, last] = name.upper().split(' ');\n",
    "    return first[0] + '.' + last[0];"
   ]
  },
  {
   "cell_type": "code",
   "execution_count": null,
   "id": "boolean-cambodia",
   "metadata": {},
   "outputs": [],
   "source": [
    "name = 'Sam Harris'\n",
    "print(abbrevName(name))"
   ]
  },
  {
   "cell_type": "markdown",
   "id": "endless-finding",
   "metadata": {},
   "source": [
    "### 7) Remove String Spaces (8 Kyu)\n",
    "\n",
    "<https://www.codewars.com/kata/57eae20f5500ad98e50002c5/python>\n",
    "\n",
    "**Tags:** Fundamentals, Strings, Arrays\n",
    "\n",
    "**Instructions:**\n",
    "\n",
    "Simple, remove the spaces from the string, then return the resultant string.\n",
    "\n",
    "**Solution:**"
   ]
  },
  {
   "cell_type": "code",
   "execution_count": null,
   "id": "gross-mathematics",
   "metadata": {},
   "outputs": [],
   "source": [
    "def no_space(x):\n",
    "    return x.replace(' ','')"
   ]
  },
  {
   "cell_type": "code",
   "execution_count": null,
   "id": "affected-drill",
   "metadata": {},
   "outputs": [],
   "source": [
    "x = \"Hello World\"\n",
    "print(no_space(x))"
   ]
  },
  {
   "cell_type": "markdown",
   "id": "computational-lease",
   "metadata": {},
   "source": [
    "### 8) Sentence Smash (8 Kyu)\n",
    "\n",
    "<https://www.codewars.com/kata/53dc23c68a0c93699800041d/python>\n",
    "\n",
    "**Tags:** Fundamentals, Loops, Control Flow, Basic Language Features, Conditional Statements, Strings, Arrays\n",
    "\n",
    "**Instructions:**\n",
    "\n",
    "Write a function that takes an array of words and smashes them together into a sentence and returns the sentence. You can ignore any need to sanitize words or add punctuation, but you should add spaces between each word. Be careful, there shouldn't be a space at the beginning or the end of the sentence!\n",
    "\n",
    "**Example:**"
   ]
  },
  {
   "cell_type": "code",
   "execution_count": null,
   "id": "enclosed-regard",
   "metadata": {},
   "outputs": [],
   "source": [
    "['hello', 'world', 'this', 'is', 'great']  =>  'hello world this is great'"
   ]
  },
  {
   "cell_type": "markdown",
   "id": "classical-double",
   "metadata": {},
   "source": [
    "**Solution:**"
   ]
  },
  {
   "cell_type": "code",
   "execution_count": null,
   "id": "surrounded-cleaners",
   "metadata": {},
   "outputs": [],
   "source": [
    "def smash(words):\n",
    "    str = ''\n",
    "    for i in range(len(words)):\n",
    "        str = str + words[i]\n",
    "    return str    \n",
    "        "
   ]
  },
  {
   "cell_type": "code",
   "execution_count": null,
   "id": "amended-restriction",
   "metadata": {},
   "outputs": [],
   "source": [
    "words = \"Should have smash defined.\"\n",
    "print(smash(words))"
   ]
  },
  {
   "cell_type": "markdown",
   "id": "architectural-conservation",
   "metadata": {},
   "source": [
    "### 9) Sort and Star (8 Kyu)\n",
    "\n",
    "<https://www.codewars.com/kata/57cfdf34902f6ba3d300001e/python>\n",
    "\n",
    "**Tags:** Fundamentals, Strings, Arrays\n",
    "\n",
    "**Instructions:**\n",
    "\n",
    "You will be given a vector of strings. You must sort it alphabetically (case-sensitive, and based on the ASCII values of the chars) and then return the first value.\n",
    "\n",
    "The returned value must be a string, and have \"***\" between each of its letters.\n",
    "\n",
    "You should not remove or add elements from/to the array.\n",
    "\n",
    "**Solution:**"
   ]
  },
  {
   "cell_type": "code",
   "execution_count": null,
   "id": "danish-child",
   "metadata": {},
   "outputs": [],
   "source": [
    "def two_sort(array):\n",
    "    s = sorted(array)[0]\n",
    "    return '***'.join(s)"
   ]
  },
  {
   "cell_type": "code",
   "execution_count": null,
   "id": "turned-jersey",
   "metadata": {},
   "outputs": [],
   "source": [
    "array = [\"bitcoin\", \"take\", \"over\", \"the\", \"world\", \"maybe\", \"who\", \"knows\", \"perhaps\"]\n",
    "print(two_sort(array))"
   ]
  },
  {
   "cell_type": "markdown",
   "id": "broadband-burner",
   "metadata": {},
   "source": [
    "### 10) Printer Errors (7 Kyu)\n",
    "\n",
    "<https://www.codewars.com/kata/56541980fa08ab47a0000040>\n",
    "\n",
    "**Tags:** Fundamentals\n",
    "\n",
    "In a factory a printer prints labels for boxes. For one kind of boxes the printer has to use colors which, for the\n",
    "sake of simplicity, are named with letters from a to m.\n",
    "\n",
    "The colors used by the printer are recorded in a control string. For example a \"good\" control string would be\n",
    "aaabbbbhaijjjm meaning that the printer used three times color a, four times color b, one time color h then one time\n",
    "color a...\n",
    "\n",
    "Sometimes there are problems: lack of colors, technical malfunction and a \"bad\" control string is produced e.g.\n",
    "aaaxbbbbyyhwawiwjjjwwm with letters not from a to m.\n",
    "\n",
    "You have to write a function printer_error which given a string will return the error rate of the printer as a string\n",
    "representing a rational whose numerator is the number of errors and the denominator the length of the control string. Don't reduce this fraction to a simpler expression.\n",
    "\n",
    "The string has a length greater or equal to one and contains only letters from ato z.\n",
    "\n",
    "**Examples:**"
   ]
  },
  {
   "cell_type": "code",
   "execution_count": null,
   "id": "loose-bennett",
   "metadata": {},
   "outputs": [],
   "source": [
    "s=\"aaabbbbhaijjjm\"\n",
    "error_printer(s) => \"0/14\"\n",
    "\n",
    "s=\"aaaxbbbbyyhwawiwjjjwwm\"\n",
    "error_printer(s) => \"8/22\""
   ]
  },
  {
   "cell_type": "markdown",
   "id": "antique-mechanism",
   "metadata": {},
   "source": [
    "**Solution:**"
   ]
  },
  {
   "cell_type": "code",
   "execution_count": null,
   "id": "numerical-composition",
   "metadata": {},
   "outputs": [],
   "source": [
    "import re\n",
    "def printer_error(s):\n",
    "    x = re.findall(\"[a-m]\", s)\n",
    "    return f\"{len(s)-len(x)}/{len(s)}\"\n",
    "        "
   ]
  },
  {
   "cell_type": "code",
   "execution_count": null,
   "id": "directed-toddler",
   "metadata": {},
   "outputs": [],
   "source": [
    "s = \"aaaxbbbbyyhwawiwjjjwwm\"\n",
    "print(printer_error(s))"
   ]
  },
  {
   "cell_type": "markdown",
   "id": "soviet-display",
   "metadata": {},
   "source": [
    "### 11)Two to One (7 Kyu)\n",
    "\n",
    "<https://www.codewars.com/kata/5656b6906de340bd1b0000ac/python>\n",
    "\n",
    "**Tags:** Fundamentals\n",
    "\n",
    "**Instructions:**\n",
    "\n",
    "Take 2 strings s1 and s2 including only letters from ato z. Return a new sorted string, the longest possible, containing distinct letters,\n",
    "each taken only once - coming from s1 or s2.\n",
    "\n",
    "**Examples:**"
   ]
  },
  {
   "cell_type": "code",
   "execution_count": null,
   "id": "missing-aside",
   "metadata": {},
   "outputs": [],
   "source": [
    "a = \"xyaabbbccccdefww\"\n",
    "b = \"xxxxyyyyabklmopq\"\n",
    "longest(a, b) -> \"abcdefklmopqwxy\"\n",
    "\n",
    "a = \"abcdefghijklmnopqrstuvwxyz\"\n",
    "longest(a, a) -> \"abcdefghijklmnopqrstuvwxyz\""
   ]
  },
  {
   "cell_type": "markdown",
   "id": "forbidden-miracle",
   "metadata": {},
   "source": [
    "**Solution:**"
   ]
  },
  {
   "cell_type": "code",
   "execution_count": null,
   "id": "forward-pitch",
   "metadata": {},
   "outputs": [],
   "source": [
    "def longest(a1, a2):\n",
    "    return ''.join(sorted(set(a1+a2)))"
   ]
  },
  {
   "cell_type": "code",
   "execution_count": null,
   "id": "thrown-county",
   "metadata": {},
   "outputs": [],
   "source": [
    "a1 = \"xyaabbbccccdefww\"\n",
    "a2 = \"xxxxyyyyabklmopq\"\n",
    "print(longest(a1, a2))"
   ]
  },
  {
   "cell_type": "markdown",
   "id": "pregnant-breed",
   "metadata": {},
   "source": [
    "#### ***Ab hier deutlich anspruchsvoller als die vorigen Aufgaben***\n",
    "\n",
    "### 12) Create Phone Number (6 Kyu)\n",
    "\n",
    "<https://www.codewars.com/kata/525f50e3b73515a6db000b83>\n",
    "\n",
    "**Tags:** Algorithms, Arrays, Strings, Loops, Control Flow, Basic Language Features, Fundamentals, Formatting,\n",
    "Regular Expressions, Declarative Programming, Advanced Language Features\n",
    "\n",
    "**Instructions:**\n",
    "\n",
    "Write a function that accepts an array of 10 integers (between 0 and 9), that returns a string of those numbers\n",
    "in the form of a phone number.\n",
    "\n",
    "**Example:**"
   ]
  },
  {
   "cell_type": "code",
   "execution_count": null,
   "id": "front-vision",
   "metadata": {},
   "outputs": [],
   "source": [
    "create_phone_number([1, 2, 3, 4, 5, 6, 7, 8, 9, 0]) # => returns \"(123) 456-7890\""
   ]
  },
  {
   "cell_type": "markdown",
   "id": "consistent-workshop",
   "metadata": {},
   "source": [
    "The returned format must be correct in order to complete this challenge.\n",
    "Don't forget the space after the closing parentheses!\n",
    "\n",
    "**Solution:**"
   ]
  },
  {
   "cell_type": "code",
   "execution_count": null,
   "id": "annual-secretary",
   "metadata": {},
   "outputs": [],
   "source": [
    "def create_phone_number(n):\n",
    "    return f\"({n[0]}{n[1]}{n[2]}) {n[3]}{n[4]}{n[5]}-{n[6]}{n[7]}{n[8]}{n[9]}\"\n",
    "    "
   ]
  },
  {
   "cell_type": "code",
   "execution_count": null,
   "id": "improving-sally",
   "metadata": {},
   "outputs": [],
   "source": [
    "n = [1, 2, 3, 4, 5, 6, 7, 8, 9, 0]\n",
    "print(create_phone_number(n))"
   ]
  },
  {
   "cell_type": "markdown",
   "id": "particular-utilization",
   "metadata": {},
   "source": [
    "## II Conditional Return\n",
    "\n",
    "### 1) Area or Perimeter\n",
    "\n",
    "<https://www.codewars.com/kata/5ab6538b379d20ad880000ab>\n",
    "\n",
    "**Tags:** Fundamentals\n",
    "\n",
    "**Instructions:**\n",
    "\n",
    "You are given the length and width of a 4-sided polygon. The polygon can either be a rectangle or a square.\n",
    "If it is a square, return its area. If it is a rectangle, return its perimeter.\n",
    "\n",
    "**Example:**"
   ]
  },
  {
   "cell_type": "code",
   "execution_count": null,
   "id": "powered-manitoba",
   "metadata": {},
   "outputs": [],
   "source": [
    "area_or_perimeter(6, 10) --> 32\n",
    "area_or_perimeter(4, 4) --> 16"
   ]
  },
  {
   "cell_type": "markdown",
   "id": "cognitive-board",
   "metadata": {},
   "source": [
    "Note: for the purposes of this kata you will assume that it is a square if its length and width are equal, otherwise it is a rectangle.\n",
    "\n",
    "**Solution:**"
   ]
  },
  {
   "cell_type": "code",
   "execution_count": null,
   "id": "different-footage",
   "metadata": {},
   "outputs": [],
   "source": [
    "def area_or_perimeter(l, w):\n",
    "    if l == w:\n",
    "        return l*w\n",
    "    else:\n",
    "        return l+l+w+w"
   ]
  },
  {
   "cell_type": "code",
   "execution_count": null,
   "id": "special-belief",
   "metadata": {},
   "outputs": [],
   "source": [
    "l = 6\n",
    "w = 10\n",
    "print(area_or_perimeter(l, w))"
   ]
  },
  {
   "cell_type": "markdown",
   "id": "united-limitation",
   "metadata": {},
   "source": [
    "### 2) Keep up the hoop\n",
    "\n",
    "<https://www.codewars.com/kata/55cb632c1a5d7b3ad0000145>\n",
    "\n",
    "**Tags:** Fundamentals\n",
    "\n",
    "**Instructions:**\n",
    "\n",
    "Alex just got a new hula hoop, he loves it but feels discouraged because his little brother is better than him\n",
    "\n",
    "Write a program where Alex can input (n) how many times the hoop goes round and it will return him an encouraging message :)\n",
    "\n",
    "If Alex gets 10 or more hoops, return the string \"Great, now move on to tricks\".\n",
    "\n",
    "If he doesn't get 10 hoops, return the string \"Keep at it until you get it\".\n",
    "\n",
    "\n",
    "**Solution:**"
   ]
  },
  {
   "cell_type": "code",
   "execution_count": null,
   "id": "pressed-conflict",
   "metadata": {},
   "outputs": [],
   "source": [
    "def hoopCount(n):\n",
    "    return\"Great, now move on to tricks\" if n >= 10 else \"Keep at it until you get it\" "
   ]
  },
  {
   "cell_type": "code",
   "execution_count": null,
   "id": "cleared-yeast",
   "metadata": {},
   "outputs": [],
   "source": [
    "n = 10\n",
    "print(hoopCount(n))"
   ]
  },
  {
   "cell_type": "markdown",
   "id": "fancy-registrar",
   "metadata": {},
   "source": [
    "### 3) Do I get a bonus? (8 Kyu)\n",
    "\n",
    "<https://www.codewars.com/kata/56f6ad906b88de513f000d96>\n",
    "\n",
    "**Tags:** Algorithms, Booleans, Strings, Numbers\n",
    "\n",
    "**Instructions:**\n",
    "\n",
    "It's bonus time in the big city! The fatcats are rubbing their paws in anticipation... but who is going to make the most money?\n",
    "\n",
    "Build a function that takes in two arguments (salary, bonus). Salary will be an integer, and bonus a boolean.\n",
    "\n",
    "If bonus is true, the salary should be multiplied by 10. If bonus is false, the fatcat did not make enough money and must receive only his stated salary.\n",
    "\n",
    "Return the total figure the individual will receive as a string prefixed with \"£\" (= \"\\u00A3\", JS, Go, and Java), \"$\" (C#, C++, Ruby, Clojure, Elixir, PHP and Python, Haskell, Lua) or \"¥\" (Rust).\n",
    "\n",
    "**Solution:**"
   ]
  },
  {
   "cell_type": "code",
   "execution_count": null,
   "id": "apparent-means",
   "metadata": {},
   "outputs": [],
   "source": [
    "def bonus_time(salary, bonus):\n",
    "    ..."
   ]
  },
  {
   "cell_type": "code",
   "execution_count": null,
   "id": "harmful-covering",
   "metadata": {},
   "outputs": [],
   "source": [
    "salary = 1000\n",
    "bonus = True\n",
    "print(bonus_time(salary, bonus))"
   ]
  },
  {
   "cell_type": "markdown",
   "id": "average-george",
   "metadata": {},
   "source": [
    "### 4) Return Negative (8 Kyu)\n",
    "\n",
    "<https://www.codewars.com/kata/55685cd7ad70877c23000102>\n",
    "\n",
    "**Tags:** Fundamentals, Numners\n",
    "\n",
    "**Instructions:**\n",
    "\n",
    "In this simple assignment you are given a number and have to make it negative. But maybe the number is already negative?\n",
    "\n",
    "**Example:**"
   ]
  },
  {
   "cell_type": "code",
   "execution_count": null,
   "id": "reserved-extra",
   "metadata": {},
   "outputs": [],
   "source": [
    "make_negative(1);  # return -1\n",
    "make_negative(-5); # return -5\n",
    "make_negative(0);  # return 0"
   ]
  },
  {
   "cell_type": "markdown",
   "id": "southeast-appliance",
   "metadata": {},
   "source": [
    "Notes:\n",
    "\n",
    "The number can be negative already, in which case no change is required.\n",
    "Zero (0) is not checked for any specific sign. Negative zeros make no mathematical sense.\n",
    "\n",
    "**Solutions:**"
   ]
  },
  {
   "cell_type": "code",
   "execution_count": null,
   "id": "imperial-patent",
   "metadata": {},
   "outputs": [],
   "source": [
    "def make_negative(number):\n",
    "    return number if number <= 0 else -number "
   ]
  },
  {
   "cell_type": "code",
   "execution_count": null,
   "id": "minus-moderator",
   "metadata": {},
   "outputs": [],
   "source": [
    "number = 5\n",
    "print(make_negative(number))"
   ]
  },
  {
   "cell_type": "markdown",
   "id": "usual-variable",
   "metadata": {},
   "source": [
    "### 5) Beginner Series #1 School Paperwork (8 Kyu)\n",
    "\n",
    "<https://www.codewars.com/kata/55f9b48403f6b87a7c0000bd>\n",
    "\n",
    "**Tags:** Fundamentals\n",
    "\n",
    "**Instructions:**\n",
    "\n",
    "Your classmates asked you to copy some paperwork for them. You know that there are 'n' classmates and the paperwork has 'm' pages.\n",
    "\n",
    "Your task is to calculate how many blank pages do you need.\n",
    "\n",
    "**Example:**"
   ]
  },
  {
   "cell_type": "code",
   "execution_count": null,
   "id": "reliable-patrol",
   "metadata": {},
   "outputs": [],
   "source": [
    "paperwork(5, 5) == 25"
   ]
  },
  {
   "cell_type": "markdown",
   "id": "final-graphics",
   "metadata": {},
   "source": [
    "Note: \n",
    "\n",
    "Return 0 if one of the factors is zero\n",
    "\n",
    "**Solution:**"
   ]
  },
  {
   "cell_type": "code",
   "execution_count": null,
   "id": "front-conservation",
   "metadata": {},
   "outputs": [],
   "source": [
    "def paperwork(n, m):\n",
    "    ..."
   ]
  },
  {
   "cell_type": "code",
   "execution_count": null,
   "id": "literary-compression",
   "metadata": {},
   "outputs": [],
   "source": [
    "n = 5\n",
    "m = 20\n",
    "print(paperwork(n, m))"
   ]
  },
  {
   "cell_type": "markdown",
   "id": "sorted-chest",
   "metadata": {},
   "source": [
    "### 6) Is he gonna survive? (8 Kyu)\n",
    "\n",
    "<https://www.codewars.com/kata/59ca8246d751df55cc00014c>\n",
    "\n",
    "**Tags:** Fundamentals, Booleans\n",
    "\n",
    "**Instructions:**\n",
    "\n",
    "A hero is on his way to the castle to complete his mission. However, he's been told that the castle is surrounded with a couple of powerful dragons! each dragon takes 2 bullets to be defeated, our hero has no idea how many bullets he should carry.. Assuming he's gonna grab a specific given number of bullets and move forward to fight another specific given number of dragons, will he survive?\n",
    "\n",
    "Return True if yes, False otherwise :)\n",
    "\n",
    "**Solution:**"
   ]
  },
  {
   "cell_type": "code",
   "execution_count": null,
   "id": "sporting-andrew",
   "metadata": {},
   "outputs": [],
   "source": [
    "def hero(bullets, dragons):\n",
    "    ..."
   ]
  },
  {
   "cell_type": "code",
   "execution_count": null,
   "id": "hollow-suggestion",
   "metadata": {},
   "outputs": [],
   "source": [
    "bullets = 10\n",
    "dragons = 5\n",
    "print(hero(bullets, dragons))"
   ]
  },
  {
   "cell_type": "markdown",
   "id": "suffering-pierre",
   "metadata": {},
   "source": [
    "### 7) L1: Set Alarm (8 Kyu)\n",
    "\n",
    "<https://www.codewars.com/kata/568dcc3c7f12767a62000038>\n",
    "\n",
    "**Tags:** Fundamentals, Booleans\n",
    "\n",
    "**Instructions:**\n",
    "\n",
    "Write a function named setAlarm which receives two parameters. The first parameter, employed, is true whenever you are employed and the second parameter, vacation is true whenever you are on vacation.\n",
    "\n",
    "The function should return true if you are employed and not on vacation (because these are the circumstances under which you need to set an alarm). It should return false otherwise. \n",
    "\n",
    "**Examples:**"
   ]
  },
  {
   "cell_type": "code",
   "execution_count": null,
   "id": "arbitrary-chancellor",
   "metadata": {},
   "outputs": [],
   "source": [
    "setAlarm(true, true) -> false\n",
    "setAlarm(false, true) -> false\n",
    "setAlarm(false, false) -> false\n",
    "setAlarm(true, false) -> true"
   ]
  },
  {
   "cell_type": "markdown",
   "id": "blond-thesaurus",
   "metadata": {},
   "source": [
    "**Solution:**"
   ]
  },
  {
   "cell_type": "code",
   "execution_count": null,
   "id": "removed-tractor",
   "metadata": {},
   "outputs": [],
   "source": [
    "def set_alarm(employed, vacation):\n",
    "    ..."
   ]
  },
  {
   "cell_type": "code",
   "execution_count": null,
   "id": "tutorial-lindsay",
   "metadata": {},
   "outputs": [],
   "source": [
    "employed = True\n",
    "vacation = True\n",
    "print(set_alarm(employed, vacation))"
   ]
  },
  {
   "cell_type": "markdown",
   "id": "manual-christopher",
   "metadata": {},
   "source": [
    "### 8) The Wide-Mouthed frog! (8 Kyu)\n",
    "\n",
    "<https://www.codewars.com/kata/57ec8bd8f670e9a47a000f89/python>\n",
    "\n",
    "**Tags:** Fundamentals, Strings\n",
    "\n",
    "**Instructions:**\n",
    "\n",
    "The wide mouth frog is particularly interested in the eating habits of other creatures.\n",
    "\n",
    "He just can't stop asking the creatures he encounters what they like to eat. But then he meet the alligator who just LOVES to eat wide-mouthed frogs!\n",
    "\n",
    "When he meets the alligator, it then makes a tiny mouth.\n",
    "\n",
    "Your goal in this kata is to create complete the mouth_size method this method take one argument animal which corresponds to the animal encountered by frog. If this one is an alligator (case insensitive) return small otherwise return wide.\n",
    "\n",
    "**Solution:**"
   ]
  },
  {
   "cell_type": "code",
   "execution_count": null,
   "id": "confident-blues",
   "metadata": {},
   "outputs": [],
   "source": [
    "def mouth_size(animal): \n",
    "    ..."
   ]
  },
  {
   "cell_type": "code",
   "execution_count": null,
   "id": "objective-lebanon",
   "metadata": {},
   "outputs": [],
   "source": [
    "animal = 'tucan'\n",
    "print(mouth_size(animal))"
   ]
  },
  {
   "cell_type": "markdown",
   "id": "undefined-seafood",
   "metadata": {},
   "source": [
    "### 9) Replace all items (7 Kyu)\n",
    "\n",
    "<https://www.codewars.com/kata/57ae18c6e298a7a6d5000c7a>\n",
    "\n",
    "**Tags:** Fundamentals, Arrays, Lists, Data Structures\n",
    "\n",
    "**Instructions:**\n",
    "\n",
    "Write function replaceAll (Python: replace_all) that will replace all occurrences of an item with another.\n",
    "\n",
    "Python / JavaScript: The function has to work for strings and lists.\n",
    "\n",
    "**Example:**"
   ]
  },
  {
   "cell_type": "code",
   "execution_count": null,
   "id": "respiratory-spray",
   "metadata": {},
   "outputs": [],
   "source": [
    "replaceAll [1,2,2] 1 2 -> in list [1,2,2] we replace 1 with 2 to get new list [2,2,2]\n",
    "replaceAll(replaceAll(array: [1,2,2], old: 1, new: 2) // [2,2,2]"
   ]
  },
  {
   "cell_type": "markdown",
   "id": "caring-malaysia",
   "metadata": {},
   "source": [
    "**Solution:**"
   ]
  },
  {
   "cell_type": "code",
   "execution_count": null,
   "id": "cordless-newark",
   "metadata": {},
   "outputs": [],
   "source": [
    "def replace_all(obj, find, replace):\n",
    "    ..."
   ]
  },
  {
   "cell_type": "code",
   "execution_count": null,
   "id": "sound-lexington",
   "metadata": {},
   "outputs": [],
   "source": [
    "obj = [1,2,2]\n",
    "find = 1\n",
    "replace = 2\n",
    "print(replace_all(obj,replace,find))"
   ]
  },
  {
   "cell_type": "markdown",
   "id": "dietary-planning",
   "metadata": {},
   "source": [
    "## III) List Comprehension:\n",
    "\n",
    "### 1) Merging sorted integer arrays (without duplicates) (8 Kyu)\n",
    "\n",
    "<https://www.codewars.com/kata/573f5c61e7752709df0005d2>\n",
    "\n",
    "**Tags:** Fundamentals, Arrays\n",
    "\n",
    "**Instruction:**\n",
    "\n",
    "Write a function that merges two sorted arrays into a single one. The arrays only contain integers.\n",
    "Also, the final outcome must be sorted and not have any duplicate.\n",
    "\n",
    "**Solution:**"
   ]
  },
  {
   "cell_type": "code",
   "execution_count": null,
   "id": "democratic-boring",
   "metadata": {},
   "outputs": [],
   "source": [
    "def merge_arrays(a, b): \n",
    "    ..."
   ]
  },
  {
   "cell_type": "code",
   "execution_count": null,
   "id": "desperate-heading",
   "metadata": {},
   "outputs": [],
   "source": [
    "a = [4,5,2,4,3]\n",
    "b = [1,5,3,6,7]\n",
    "print(merge_arrays(a,b))"
   ]
  },
  {
   "cell_type": "markdown",
   "id": "regulated-bibliography",
   "metadata": {},
   "source": [
    "### 2) Enumerable Magic #25 - Take the First N Elements (8 Kyu)\n",
    "\n",
    "<https://www.codewars.com/kata/545afd0761aa4c3055001386>\n",
    "\n",
    "**Tags:** Fundamentals\n",
    "\n",
    "**Instruction:**\n",
    "\n",
    "Create a method take that accepts a list/array and a number n,\n",
    "and returns a list/array array of the first n elements from the list/array.\n",
    "\n",
    "If you need help, here's a reference:\n",
    "\n",
    "https://docs.python.org/3/library/stdtypes.html#sequence-types-list-tuple-range\n",
    "\n",
    "**Solution:**"
   ]
  },
  {
   "cell_type": "code",
   "execution_count": null,
   "id": "broke-insulation",
   "metadata": {},
   "outputs": [],
   "source": [
    "def take(arr,n):\n",
    "    ..."
   ]
  },
  {
   "cell_type": "code",
   "execution_count": null,
   "id": "hazardous-lloyd",
   "metadata": {},
   "outputs": [],
   "source": [
    "arr = [1,2,3,4,5,6]\n",
    "n = 4\n",
    "print(take(arr,n))"
   ]
  },
  {
   "cell_type": "markdown",
   "id": "shared-science",
   "metadata": {},
   "source": [
    "### 3) Sum Mixed Array (8 Kyu)\n",
    "\n",
    "<https://www.codewars.com/kata/57eaeb9578748ff92a000009>\n",
    "\n",
    "Tags: Fundamentals, Strings, Numbers, Arrays\n",
    "\n",
    "**Instruction:**\n",
    "\n",
    "Given an array of integers as strings and numbers, return the sum of the array values as if all were numbers.\n",
    "\n",
    "Return your answer as a number.\n",
    "\n",
    "**Solution 1:**"
   ]
  },
  {
   "cell_type": "code",
   "execution_count": null,
   "id": "marine-wednesday",
   "metadata": {},
   "outputs": [],
   "source": [
    "def sum_mix(arr):\n",
    "    ..."
   ]
  },
  {
   "cell_type": "code",
   "execution_count": null,
   "id": "active-incident",
   "metadata": {},
   "outputs": [],
   "source": [
    "arr = [1,'1']\n",
    "print(sum_mix(arr))"
   ]
  },
  {
   "cell_type": "markdown",
   "id": "destroyed-beverage",
   "metadata": {},
   "source": [
    "**Solution 2:**"
   ]
  },
  {
   "cell_type": "code",
   "execution_count": null,
   "id": "inner-david",
   "metadata": {},
   "outputs": [],
   "source": [
    "def sum_mix(arr):\n",
    "    ..."
   ]
  },
  {
   "cell_type": "code",
   "execution_count": null,
   "id": "auburn-marketing",
   "metadata": {},
   "outputs": [],
   "source": [
    "arr = [1,'1']\n",
    "print(sum_mix(arr))"
   ]
  },
  {
   "cell_type": "markdown",
   "id": "initial-wagon",
   "metadata": {},
   "source": [
    "### 4) Sum of positive (8 Kyu)\n",
    "\n",
    "<https://www.codewars.com/kata/5715eaedb436cf5606000381>\n",
    "\n",
    "**Instructions:**\n",
    "\n",
    "You get an array of numbers, return the sum of all of the positives ones.\n",
    "\n",
    "**Example:**"
   ]
  },
  {
   "cell_type": "code",
   "execution_count": null,
   "id": "solar-shoulder",
   "metadata": {},
   "outputs": [],
   "source": [
    " [1,-4,7,12] => 1 + 7 + 12 = 20"
   ]
  },
  {
   "cell_type": "markdown",
   "id": "caroline-corner",
   "metadata": {},
   "source": [
    "Note: if there is nothing to sum, the sum is default to 0.\n",
    "\n",
    "**Solution:**"
   ]
  },
  {
   "cell_type": "code",
   "execution_count": null,
   "id": "cooperative-interest",
   "metadata": {},
   "outputs": [],
   "source": [
    "def positive_sum(arr):\n",
    "    ..."
   ]
  },
  {
   "cell_type": "code",
   "execution_count": null,
   "id": "killing-yesterday",
   "metadata": {},
   "outputs": [],
   "source": [
    "arr = [1,-4,7,12]\n",
    "print(positive_sum(arr))"
   ]
  },
  {
   "cell_type": "markdown",
   "id": "corresponding-pontiac",
   "metadata": {},
   "source": [
    "### 5) Invert values (8 Kyu)\n",
    "\n",
    "<https://www.codewars.com/kata/5899dc03bc95b1bf1b0000ad>\n",
    "\n",
    "**Tags:** Fundamentals, Integers, Numbers, Lists, Data Structures\n",
    "\n",
    "**Instructions:**\n",
    "\n",
    "Given a set of numbers, return the additive inverse of each. Each positive becomes negatives, and the negatives become\n",
    "positives.\n",
    "\n",
    "**Example:**"
   ]
  },
  {
   "cell_type": "code",
   "execution_count": null,
   "id": "caroline-robinson",
   "metadata": {},
   "outputs": [],
   "source": [
    "invert([1,2,3,4,5]) == [-1,-2,-3,-4,-5]\n",
    "invert([1,-2,3,-4,5]) == [-1,2,-3,4,-5]\n",
    "invert([]) == []"
   ]
  },
  {
   "cell_type": "markdown",
   "id": "leading-vancouver",
   "metadata": {},
   "source": [
    "You can assume that all values are integers. Do not mutate the input array/list.\n",
    "\n",
    "**Solution:**"
   ]
  },
  {
   "cell_type": "code",
   "execution_count": null,
   "id": "requested-minnesota",
   "metadata": {},
   "outputs": [],
   "source": [
    "def invert(lst):\n",
    "    ..."
   ]
  },
  {
   "cell_type": "code",
   "execution_count": null,
   "id": "printable-bumper",
   "metadata": {},
   "outputs": [],
   "source": [
    "lst = [1,2,3,4,5]\n",
    "print(invert(lst))"
   ]
  },
  {
   "cell_type": "markdown",
   "id": "facial-manchester",
   "metadata": {},
   "source": [
    "### 6) Grasshopper - Summation (8 Kyu)\n",
    "\n",
    "<https://www.codewars.com/kata/55d24f55d7dd296eb9000030>\n",
    "\n",
    "**Tags:** Fundamentals, Loops, Control Flow, Basic Language Features\n",
    "\n",
    "**Instructions:**\n",
    "\n",
    "Write a program that finds the summation of every number from 1 to num. The number will always be a positive integer\n",
    "greater than 0.\n",
    "\n",
    "**Example:**"
   ]
  },
  {
   "cell_type": "code",
   "execution_count": null,
   "id": "scientific-chester",
   "metadata": {},
   "outputs": [],
   "source": [
    "summation(2) -> 3\n",
    "1 + 2\n",
    "\n",
    "summation(8) -> 36\n",
    "1 + 2 + 3 + 4 + 5 + 6 + 7 + 8"
   ]
  },
  {
   "cell_type": "markdown",
   "id": "advance-constitution",
   "metadata": {},
   "source": [
    "**Solution:**"
   ]
  },
  {
   "cell_type": "code",
   "execution_count": null,
   "id": "normal-reviewer",
   "metadata": {},
   "outputs": [],
   "source": [
    "def summation(num):\n",
    "    ..."
   ]
  },
  {
   "cell_type": "code",
   "execution_count": null,
   "id": "accurate-milwaukee",
   "metadata": {},
   "outputs": [],
   "source": [
    "print(summation(8))"
   ]
  },
  {
   "cell_type": "markdown",
   "id": "invalid-progress",
   "metadata": {},
   "source": [
    "### 7) Filling an array (part 1) (8 Kyu)\n",
    "\n",
    "<https://www.codewars.com/kata/571d42206414b103dc0006a1>\n",
    "\n",
    "**Tags:** Fundamentals, Arrays\n",
    "\n",
    "**Instructions:**\n",
    "\n",
    "We want an array, but not just any old array, an array with contents!\n",
    "\n",
    "Write a function that produces an array with the numbers 0 to N-1 in it.\n",
    "\n",
    "For **example**, the following code will result in an array containing the numbers 0 to 4:"
   ]
  },
  {
   "cell_type": "code",
   "execution_count": null,
   "id": "expressed-plymouth",
   "metadata": {},
   "outputs": [],
   "source": [
    "arr(5) // => [0,1,2,3,4]"
   ]
  },
  {
   "cell_type": "markdown",
   "id": "residential-channels",
   "metadata": {},
   "source": [
    "**Solution:**"
   ]
  },
  {
   "cell_type": "code",
   "execution_count": null,
   "id": "national-visiting",
   "metadata": {},
   "outputs": [],
   "source": [
    "def arr(n=0): \n",
    "    ..."
   ]
  },
  {
   "cell_type": "code",
   "execution_count": null,
   "id": "efficient-belize",
   "metadata": {},
   "outputs": [],
   "source": [
    "print(arr(5))"
   ]
  },
  {
   "cell_type": "markdown",
   "id": "laden-sheep",
   "metadata": {},
   "source": [
    "### 8) Reversed Words (8 Kyu)\n",
    "\n",
    "<https://www.codewars.com/kata/51c8991dee245d7ddf00000e>\n",
    "\n",
    "**Tags:** Algorithms, Strings\n",
    "\n",
    "**Instructions:**\n",
    "\n",
    "Complete the solution so that it reverses all of the words within the string passed in.\n",
    "\n",
    "**Example:**"
   ]
  },
  {
   "cell_type": "code",
   "execution_count": null,
   "id": "magnetic-prague",
   "metadata": {},
   "outputs": [],
   "source": [
    "reverseWords(\"The greatest victory is that which requires no battle\")\n",
    "// should return \"battle no requires which that is victory greatest The\""
   ]
  },
  {
   "cell_type": "markdown",
   "id": "included-brother",
   "metadata": {},
   "source": [
    "**Solution:**"
   ]
  },
  {
   "cell_type": "code",
   "execution_count": null,
   "id": "premium-colorado",
   "metadata": {},
   "outputs": [],
   "source": [
    "def reverseWords(str):\n",
    "    return \" \".join(str.split(\" \")[::-1])"
   ]
  },
  {
   "cell_type": "code",
   "execution_count": null,
   "id": "fossil-toolbox",
   "metadata": {},
   "outputs": [],
   "source": [
    "str = \"The greatest victory is that which requires no battle\"\n",
    "print(reverseWords(str))"
   ]
  },
  {
   "cell_type": "markdown",
   "id": "elect-corporation",
   "metadata": {},
   "source": [
    "### 9) Square(n) Sum (8 Kyu)\n",
    "\n",
    "<https://www.codewars.com/kata/515e271a311df0350d00000f>\n",
    "\n",
    "**Tags:** Fundamentals, Arithmetic, Mathematics, Algorithms, Arrays, Lists, Data Structures\n",
    "\n",
    "**Instructions:**\n",
    "\n",
    "Complete the square sum function so that it squares each number passed into it and then sums the results together.\n",
    "\n",
    "**Example:**"
   ]
  },
  {
   "cell_type": "code",
   "execution_count": null,
   "id": "optional-white",
   "metadata": {},
   "outputs": [],
   "source": [
    "[1, 2, 2] it should return 9 because 1^2 + 2^2 + 2^2 = 9."
   ]
  },
  {
   "cell_type": "markdown",
   "id": "spread-christian",
   "metadata": {},
   "source": [
    "**Solution:**"
   ]
  },
  {
   "cell_type": "code",
   "execution_count": null,
   "id": "studied-stock",
   "metadata": {},
   "outputs": [],
   "source": [
    "def square_sum(numbers):\n",
    "    ..."
   ]
  },
  {
   "cell_type": "code",
   "execution_count": null,
   "id": "maritime-george",
   "metadata": {},
   "outputs": [],
   "source": [
    "numbers = [1, 2, 2]\n",
    "print(square_sum(numbers))"
   ]
  },
  {
   "cell_type": "markdown",
   "id": "cubic-collapse",
   "metadata": {},
   "source": [
    "### 10) Reversed sequence (8 Kyu)\n",
    "\n",
    "<https://www.codewars.com/kata/5a00e05cc374cb34d100000d>\n",
    "\n",
    "**Tags:** Fundamentals\n",
    "\n",
    "Instructions:\n",
    "\n",
    "Build a function that returns an array of integers from n to 1 where n>0.\n",
    "\n",
    "**Example:**"
   ]
  },
  {
   "cell_type": "code",
   "execution_count": null,
   "id": "olympic-twenty",
   "metadata": {},
   "outputs": [],
   "source": [
    "n=5 >> [5,4,3,2,1]"
   ]
  },
  {
   "cell_type": "markdown",
   "id": "loving-tracy",
   "metadata": {},
   "source": [
    "**Solution:**"
   ]
  },
  {
   "cell_type": "code",
   "execution_count": null,
   "id": "chief-national",
   "metadata": {},
   "outputs": [],
   "source": [
    "def reverse_seq(n):\n",
    "    ..."
   ]
  },
  {
   "cell_type": "code",
   "execution_count": null,
   "id": "considered-staff",
   "metadata": {},
   "outputs": [],
   "source": [
    "print(reverse_seq(5))"
   ]
  },
  {
   "cell_type": "markdown",
   "id": "infinite-contact",
   "metadata": {},
   "source": [
    "### 11) Unique string characters (7 Kyu)\n",
    "\n",
    "<https://www.codewars.com/kata/5a262cfb8f27f217f700000b>\n",
    "\n",
    "**Tags:** Fundamentals, Strings\n",
    "\n",
    "**Instructions:**\n",
    "\n",
    "In this Kata, you will be given two strings a and b and your task will be to return the characters that are not common\n",
    "in the two strings.\n",
    "\n",
    "**Example:**\n",
    "\tsolve(\"xyab\",\"xzca\") = \"ybzc\" \n",
    "\t--The first string has 'yb' which is not in the second string. \n",
    "\t--The second string has 'zc' which is not in the first string. \n",
    "\n",
    "Notice also that you return the characters from the first string concatenated with those from the second string.\n",
    "\n",
    "**Solution:**"
   ]
  },
  {
   "cell_type": "code",
   "execution_count": null,
   "id": "golden-clearing",
   "metadata": {},
   "outputs": [],
   "source": [
    "def solve(a,b):\n",
    "    ..."
   ]
  },
  {
   "cell_type": "code",
   "execution_count": null,
   "id": "considered-moisture",
   "metadata": {},
   "outputs": [],
   "source": [
    "a = \"xyab\"\n",
    "b = \"xzca\"\n",
    "print(solve(a,b))"
   ]
  },
  {
   "cell_type": "markdown",
   "id": "earned-curve",
   "metadata": {},
   "source": [
    "### 12) Sum - Square Even, Root Odd (7 Kyu)\n",
    "\n",
    "<https://www.codewars.com/kata/5a4b16435f08299c7000274f>\n",
    "\n",
    "**Tags:** Fundamentals\n",
    "\n",
    "**Instructions:**\n",
    "\n",
    "Complete the function that takes a list of numbers (nums), as the only argument to the function. Take each number in\n",
    "the list and square it if it is even, or square root the number if it is odd. Take this new list and return the sum of it, rounded to two decimal places.\n",
    "\n",
    "The list will never be empty and will only contain values that are greater than or equal to zero.hat are not common\n",
    "in the two strings.\n",
    "\n",
    "**Solution:**"
   ]
  },
  {
   "cell_type": "code",
   "execution_count": null,
   "id": "furnished-recruitment",
   "metadata": {},
   "outputs": [],
   "source": [
    "def sum_square_even_root_odd(nums):\n",
    "    ..."
   ]
  },
  {
   "cell_type": "code",
   "execution_count": null,
   "id": "domestic-singing",
   "metadata": {},
   "outputs": [],
   "source": [
    "nums = [5,4,3,2,1]\n",
    "print (sum_square_even_root_odd(nums))"
   ]
  },
  {
   "cell_type": "markdown",
   "id": "foreign-welcome",
   "metadata": {},
   "source": [
    "### 13) Jaden Casing Strings (7 Kyu)\n",
    "\n",
    "<https://www.codewars.com/kata/5390bac347d09b7da40006f6>\n",
    "\n",
    "**Tags:** Fundamentals, Strings, Arrays\n",
    "\n",
    "**Instructions:**\n",
    "\n",
    "Jaden Smith, the son of Will Smith, is the star of films such as The Karate Kid (2010) and After Earth (2013).\n",
    "Jaden is also known for some of his philosophy that he delivers via Twitter. When writing on Twitter, he is known\n",
    "for almost always capitalizing every word. For simplicity, you'll have to capitalize each word, check out how contractions\n",
    "are expected to be in the example below.\n",
    "\n",
    "Your task is to convert strings to how they would be written by Jaden Smith. The strings are actual quotes from\n",
    "Jaden Smith, but they are not capitalized in the same way he originally typed them.\n",
    "\n",
    "**Example:**"
   ]
  },
  {
   "cell_type": "code",
   "execution_count": null,
   "id": "random-ceiling",
   "metadata": {},
   "outputs": [],
   "source": [
    "Not Jaden-Cased: \"How can mirrors be real if our eyes aren't real\"\n",
    "Jaden-Cased:     \"How Can Mirrors Be Real If Our Eyes Aren't Real\""
   ]
  },
  {
   "cell_type": "markdown",
   "id": "smoking-assessment",
   "metadata": {},
   "source": [
    "**Solution:**"
   ]
  },
  {
   "cell_type": "code",
   "execution_count": null,
   "id": "painful-vanilla",
   "metadata": {},
   "outputs": [],
   "source": [
    "def to_jaden_case(string):\n",
    "    ..."
   ]
  },
  {
   "cell_type": "code",
   "execution_count": null,
   "id": "formed-compromise",
   "metadata": {},
   "outputs": [],
   "source": [
    "string = \"How can mirrors be real if our eyes aren't real\"\n",
    "print(to_jaden_case(string))"
   ]
  },
  {
   "cell_type": "markdown",
   "id": "quiet-balloon",
   "metadata": {},
   "source": [
    "### 14) List Filtering (7 Kyu)\n",
    "\n",
    "<https://www.codewars.com/kata/53dbd5315a3c69eed20002dd>\n",
    "\n",
    "**Tags:** Fundamentals, Lists, Data Structures, Filtering, Algorithms\n",
    "\n",
    "**Instructions:**\n",
    "\n",
    "In this kata you will create a function that takes a list of non-negative integers and strings and returns a new list\n",
    "with the strings filtered out.\n",
    "\n",
    "**Examples:**"
   ]
  },
  {
   "cell_type": "code",
   "execution_count": null,
   "id": "powered-stuart",
   "metadata": {},
   "outputs": [],
   "source": [
    "filter_list([1,2,'a','b']) == [1,2]\n",
    "filter_list([1,'a','b',0,15]) == [1,0,15]\n",
    "filter_list([1,2,'aasf','1','123',123]) == [1,2,123]"
   ]
  },
  {
   "cell_type": "markdown",
   "id": "tested-planner",
   "metadata": {},
   "source": [
    "**Solution:**"
   ]
  },
  {
   "cell_type": "code",
   "execution_count": null,
   "id": "photographic-middle",
   "metadata": {},
   "outputs": [],
   "source": [
    "def filter_list(l):\n",
    "    ..."
   ]
  },
  {
   "cell_type": "code",
   "execution_count": null,
   "id": "resident-lover",
   "metadata": {},
   "outputs": [],
   "source": [
    "l = [1,2,'aasf','1','123',123]\n",
    "print(filter_list(l))"
   ]
  },
  {
   "cell_type": "markdown",
   "id": "christian-istanbul",
   "metadata": {},
   "source": [
    "### 15) Highest and Lowest (7 Kyu)\n",
    "\n",
    "<https://www.codewars.com/kata/554b4ac871d6813a03000035>\n",
    "\n",
    "**Tags:** Fundamentals, Strings\n",
    "\n",
    "**Instructions:**\n",
    "\n",
    "In this little assignment you are given a string of space separated numbers, and have to return the highest and lowest number.\n",
    "\n",
    "**Examples:**"
   ]
  },
  {
   "cell_type": "code",
   "execution_count": null,
   "id": "martial-heavy",
   "metadata": {},
   "outputs": [],
   "source": [
    "high_and_low(\"1 2 3 4 5\")  # return \"5 1\"\n",
    "high_and_low(\"1 2 -3 4 5\") # return \"5 -3\"\n",
    "high_and_low(\"1 9 3 4 -5\") # return \"9 -5\""
   ]
  },
  {
   "cell_type": "markdown",
   "id": "latin-mentor",
   "metadata": {},
   "source": [
    "Notes:\n",
    "\n",
    "All numbers are valid Int32, no need to validate them.\n",
    "There will always be at least one number in the input string.\n",
    "Output string must be two numbers separated by a single space, and highest number is first.\n",
    "\n",
    "**Solution:**"
   ]
  },
  {
   "cell_type": "code",
   "execution_count": null,
   "id": "technological-judgment",
   "metadata": {},
   "outputs": [],
   "source": [
    "def high_and_low(numbers): \n",
    "    ..."
   ]
  },
  {
   "cell_type": "code",
   "execution_count": null,
   "id": "smoking-detection",
   "metadata": {},
   "outputs": [],
   "source": [
    "numbers = \"1 2 3 4 5\"\n",
    "print(high_and_low(numbers))"
   ]
  },
  {
   "cell_type": "markdown",
   "id": "magnetic-wrestling",
   "metadata": {},
   "source": [
    "### 16) ORing arrays (7 Kyu)\n",
    "\n",
    "<https://www.codewars.com/kata/5ac5e9aa3853da25d9000102>\n",
    "\n",
    "Tags: Fundamentals, Arrays, Lists, Data Structures, Bitwise Operators, Bits, Operators, Advanced Language Features\n",
    "\n",
    "**Instructions:**\n",
    "\n",
    "It started as a discussion with a friend, who didn't fully grasp some way of setting defaults, but I thought the idea was cool enough for a beginner kata: binary OR each matching element of two given arrays (or lists, if you do it in Python; vectors in c++) of integers and give the resulting ORed array [starts to sound like a tonguetwister, doesn't it?].\n",
    "\n",
    "If one array is shorter than the other, use the optional third parameter (defaulted to 0) to OR the unmatched elements.\n",
    "\n",
    "**Examples:**"
   ]
  },
  {
   "cell_type": "code",
   "execution_count": null,
   "id": "heard-accident",
   "metadata": {},
   "outputs": [],
   "source": [
    "or_arrays([1,2,3],[1,2,3]) == [1,2,3]\n",
    "or_arrays([1,2,3],[4,5,6]) == [5,7,7]\n",
    "or_arrays([1,2,3],[1,2]) == [1,2,3]\n",
    "or_arrays([1,2],[1,2,3]) == [1,2,3]\n",
    "or_arrays([1,2,3],[1,2,3],3) == [1,2,3]"
   ]
  },
  {
   "cell_type": "markdown",
   "id": "hearing-testing",
   "metadata": {},
   "source": [
    "**Solution:**"
   ]
  },
  {
   "cell_type": "code",
   "execution_count": null,
   "id": "metropolitan-peoples",
   "metadata": {},
   "outputs": [],
   "source": [
    "def or_arrays(arr1, arr2, arr3=''):\n",
    "    ..."
   ]
  },
  {
   "cell_type": "code",
   "execution_count": null,
   "id": "altered-fiber",
   "metadata": {},
   "outputs": [],
   "source": [
    "arr1 = [1,2,3]\n",
    "arr2 = [1,2,3]\n",
    "print(or_arrays(arr1,arr2))"
   ]
  },
  {
   "cell_type": "markdown",
   "id": "naughty-wallpaper",
   "metadata": {},
   "source": [
    "***Ab hier deutlich anspruchsvoller als die vorigen Aufgaben***\n",
    "\n",
    "### 17) Multiples of 3 and 5 (6 Kyu)\n",
    "\n",
    "<https://www.codewars.com/kata/514b92a657cdc65150000006>\n",
    "\n",
    "**Tags:** Algorithms, Mathematics, Numbers\n",
    "\n",
    "**Instructions:**\n",
    "\n",
    "If we list all the natural numbers below 10 that are multiples of 3 or 5, we get 3, 5, 6 and 9. The sum of these\n",
    "multiples is 23.\n",
    "\n",
    "Finish the solution so that it returns the sum of all the multiples of 3 or 5 below the number passed in.\n",
    "\n",
    "Note: If the number is a multiple of both 3 and 5, only count it once. Also, if a number is negative, return 0-\n",
    "\n",
    "**Solution(List Comprehension - slow):**"
   ]
  },
  {
   "cell_type": "code",
   "execution_count": null,
   "id": "historic-hospital",
   "metadata": {},
   "outputs": [],
   "source": [
    "def solution1(number):\n",
    "    ..."
   ]
  },
  {
   "cell_type": "code",
   "execution_count": null,
   "id": "empty-trinidad",
   "metadata": {},
   "outputs": [],
   "source": [
    "print(solution1(100))"
   ]
  },
  {
   "cell_type": "markdown",
   "id": "conscious-driver",
   "metadata": {},
   "source": [
    "**Solution(Math - fast):**"
   ]
  },
  {
   "cell_type": "code",
   "execution_count": null,
   "id": "tribal-webcam",
   "metadata": {},
   "outputs": [],
   "source": [
    "def solution2(number):\n",
    "    ...\n",
    "    \n",
    "def sum_numbers(number):\n",
    "    ..."
   ]
  },
  {
   "cell_type": "code",
   "execution_count": null,
   "id": "sunrise-liberty",
   "metadata": {},
   "outputs": [],
   "source": [
    "print(solution2(100))"
   ]
  },
  {
   "cell_type": "markdown",
   "id": "binary-likelihood",
   "metadata": {},
   "source": [
    "### 18) Your order, please (6 Kyu)\n",
    "\n",
    "<https://www.codewars.com/kata/55c45be3b2079eccff00010f>\n",
    "\n",
    "**Tags:** Fundamentals, Strings\n",
    "\n",
    "**Instructions:**\n",
    "\n",
    "Your task is to sort a given string. Each word in the string will contain a single number. This number is the position \n",
    "the word should have in the result.\n",
    "\n",
    "Note: Numbers can be from 1 to 9. So 1 will be the first word (not 0).\n",
    "\n",
    "If the input string is empty, return an empty string. The words in the input String will only contain valid consecutive\n",
    "numbers.\n",
    "\n",
    "**Examples:**"
   ]
  },
  {
   "cell_type": "code",
   "execution_count": null,
   "id": "acknowledged-referral",
   "metadata": {},
   "outputs": [],
   "source": [
    "\"is2 Thi1s T4est 3a\"  -->  \"Thi1s is2 3a T4est\"\n",
    "\"4of Fo1r pe6ople g3ood th5e the2\"  -->  \"Fo1r the2 g3ood 4of th5e pe6ople\"\n",
    "\"\"  -->  \"\""
   ]
  },
  {
   "cell_type": "markdown",
   "id": "optional-eclipse",
   "metadata": {},
   "source": [
    "**Solution:**"
   ]
  },
  {
   "cell_type": "code",
   "execution_count": null,
   "id": "neural-death",
   "metadata": {},
   "outputs": [],
   "source": [
    "def order(sentence):\n",
    "    ...\n",
    "  \n",
    "def sorting(word): \n",
    "    ..."
   ]
  },
  {
   "cell_type": "code",
   "execution_count": null,
   "id": "valid-affairs",
   "metadata": {},
   "outputs": [],
   "source": [
    "sentence = \"is2 Thi1s T4est 3a\"\n",
    "print(order(sentence))"
   ]
  }
 ],
 "metadata": {
  "kernelspec": {
   "display_name": "dsci-txt",
   "language": "python",
   "name": "dsci-txt"
  },
  "language_info": {
   "codemirror_mode": {
    "name": "ipython",
    "version": 3
   },
   "file_extension": ".py",
   "mimetype": "text/x-python",
   "name": "python",
   "nbconvert_exporter": "python",
   "pygments_lexer": "ipython3",
   "version": "3.9.2"
  }
 },
 "nbformat": 4,
 "nbformat_minor": 5
}
