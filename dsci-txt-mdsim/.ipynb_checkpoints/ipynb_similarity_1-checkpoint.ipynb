{
 "cells": [
  {
   "cell_type": "markdown",
   "metadata": {},
   "source": [
    "IPYNB Similarity\n",
    "======="
   ]
  },
  {
   "cell_type": "code",
   "execution_count": 2,
   "metadata": {},
   "outputs": [],
   "source": [
    "import numpy as np\n",
    "import pandas as pd"
   ]
  },
  {
   "cell_type": "markdown",
   "metadata": {},
   "source": [
    "### Global Parameters\n"
   ]
  },
  {
   "cell_type": "code",
   "execution_count": 3,
   "metadata": {},
   "outputs": [],
   "source": [
    "# path to ipynb-files, incl. glob mask\n",
    "path_to_ipynb = \"ex_*.ipynb\"\n",
    "\n",
    "cell_types = [ \"code\", \"markdown\" ] \n",
    "\n",
    "# show intermediary results\n",
    "# 0 none, 1 informative, 2 debug\n",
    "verbosity = 2"
   ]
  },
  {
   "cell_type": "code",
   "execution_count": 4,
   "metadata": {},
   "outputs": [],
   "source": [
    "def verbose(level,item):\n",
    "    if level <= verbosity:\n",
    "        display(item)"
   ]
  },
  {
   "cell_type": "markdown",
   "metadata": {},
   "source": [
    "Read Files \n",
    "----\n"
   ]
  },
  {
   "cell_type": "code",
   "execution_count": 5,
   "metadata": {},
   "outputs": [
    {
     "data": {
      "text/plain": [
       "3"
      ]
     },
     "metadata": {},
     "output_type": "display_data"
    },
    {
     "data": {
      "text/plain": [
       "['ex_02.ipynb', 'ex_04.ipynb', 'ex_01.ipynb']"
      ]
     },
     "metadata": {},
     "output_type": "display_data"
    }
   ],
   "source": [
    "# https://stackoverflow.com/questions/3207219/how-do-i-list-all-files-of-a-directory\n",
    "import glob\n",
    "files = glob.glob(path_to_ipynb)\n",
    "verbose(1,len(files))\n",
    "verbose(2,files)"
   ]
  },
  {
   "cell_type": "code",
   "execution_count": 6,
   "metadata": {},
   "outputs": [],
   "source": [
    "# read ipynb\n",
    "import json\n",
    "def ipynb2string(file, cell_types):\n",
    "    with open(file) as json_file:\n",
    "        ex = json.load(json_file)\n",
    "    cells = [ c  for c in ex[\"cells\"] ]\n",
    "    code = [ x[\"source\"] for x in cells if x[\"cell_type\"] in cell_types ]\n",
    "    # return code\n",
    "    return [ \" \".join(s) for s in code]"
   ]
  },
  {
   "cell_type": "code",
   "execution_count": 7,
   "metadata": {},
   "outputs": [
    {
     "data": {
      "text/plain": [
       "3"
      ]
     },
     "metadata": {},
     "output_type": "display_data"
    },
    {
     "data": {
      "text/plain": [
       "['A pretty simple translation of an ipynb\\n ===== print(\"Hello World!\") answer = 42\\n print(\"The answer is \", answer)\\n # But what\\'s the question? ',\n",
       " 'print (\"Hallo\")\\n print (\"Welt\") ',\n",
       " 'Ein ganz einfaches ipynb\\n ===== print(\"Hallo Welt!\") answer = 42\\n print(\"Die Antwort lautet \", answer)\\n # Aber wie lautet die Frage? ']"
      ]
     },
     "metadata": {},
     "output_type": "display_data"
    }
   ],
   "source": [
    "corpus = []\n",
    "for file in files:\n",
    "    corpus.append(\" \".join(ipynb2string(file, cell_types)))\n",
    "verbose(1, len(corpus))\n",
    "verbose(2, corpus)"
   ]
  },
  {
   "cell_type": "code",
   "execution_count": 8,
   "metadata": {
    "lines_to_next_cell": 2
   },
   "outputs": [],
   "source": [
    "text_corpus = corpus"
   ]
  },
  {
   "cell_type": "markdown",
   "metadata": {},
   "source": [
    "Bag of Words: CountVectorizer\n",
    "------\n",
    "\n",
    "https://scikit-learn.org/stable/modules/generated/sklearn.feature_extraction.text.CountVectorizer.html#sklearn.feature_extraction.text.CountVectorizer\n"
   ]
  },
  {
   "cell_type": "code",
   "execution_count": 9,
   "metadata": {},
   "outputs": [
    {
     "data": {
      "text/plain": [
       "scipy.sparse.csr.csr_matrix"
      ]
     },
     "metadata": {},
     "output_type": "display_data"
    }
   ],
   "source": [
    "from sklearn.feature_extraction.text import CountVectorizer\n",
    "count = CountVectorizer()\n",
    "\n",
    "bag_of_words = count.fit_transform(np.array(text_corpus))\n",
    "verbose(1,type(bag_of_words))"
   ]
  },
  {
   "cell_type": "code",
   "execution_count": 10,
   "metadata": {},
   "outputs": [
    {
     "data": {
      "text/plain": [
       "27"
      ]
     },
     "metadata": {},
     "output_type": "display_data"
    }
   ],
   "source": [
    "feature_names = count.get_feature_names()\n",
    "verbose(1,len(feature_names))"
   ]
  },
  {
   "cell_type": "code",
   "execution_count": 11,
   "metadata": {},
   "outputs": [
    {
     "data": {
      "text/html": [
       "<div>\n",
       "<style scoped>\n",
       "    .dataframe tbody tr th:only-of-type {\n",
       "        vertical-align: middle;\n",
       "    }\n",
       "\n",
       "    .dataframe tbody tr th {\n",
       "        vertical-align: top;\n",
       "    }\n",
       "\n",
       "    .dataframe thead th {\n",
       "        text-align: right;\n",
       "    }\n",
       "</style>\n",
       "<table border=\"1\" class=\"dataframe\">\n",
       "  <thead>\n",
       "    <tr style=\"text-align: right;\">\n",
       "      <th></th>\n",
       "      <th>42</th>\n",
       "      <th>aber</th>\n",
       "      <th>an</th>\n",
       "      <th>answer</th>\n",
       "      <th>antwort</th>\n",
       "      <th>but</th>\n",
       "      <th>die</th>\n",
       "      <th>ein</th>\n",
       "      <th>einfaches</th>\n",
       "      <th>frage</th>\n",
       "      <th>...</th>\n",
       "      <th>pretty</th>\n",
       "      <th>print</th>\n",
       "      <th>question</th>\n",
       "      <th>simple</th>\n",
       "      <th>the</th>\n",
       "      <th>translation</th>\n",
       "      <th>welt</th>\n",
       "      <th>what</th>\n",
       "      <th>wie</th>\n",
       "      <th>world</th>\n",
       "    </tr>\n",
       "  </thead>\n",
       "  <tbody>\n",
       "    <tr>\n",
       "      <th>0</th>\n",
       "      <td>1</td>\n",
       "      <td>0</td>\n",
       "      <td>1</td>\n",
       "      <td>3</td>\n",
       "      <td>0</td>\n",
       "      <td>1</td>\n",
       "      <td>0</td>\n",
       "      <td>0</td>\n",
       "      <td>0</td>\n",
       "      <td>0</td>\n",
       "      <td>...</td>\n",
       "      <td>1</td>\n",
       "      <td>2</td>\n",
       "      <td>1</td>\n",
       "      <td>1</td>\n",
       "      <td>2</td>\n",
       "      <td>1</td>\n",
       "      <td>0</td>\n",
       "      <td>1</td>\n",
       "      <td>0</td>\n",
       "      <td>1</td>\n",
       "    </tr>\n",
       "    <tr>\n",
       "      <th>1</th>\n",
       "      <td>0</td>\n",
       "      <td>0</td>\n",
       "      <td>0</td>\n",
       "      <td>0</td>\n",
       "      <td>0</td>\n",
       "      <td>0</td>\n",
       "      <td>0</td>\n",
       "      <td>0</td>\n",
       "      <td>0</td>\n",
       "      <td>0</td>\n",
       "      <td>...</td>\n",
       "      <td>0</td>\n",
       "      <td>2</td>\n",
       "      <td>0</td>\n",
       "      <td>0</td>\n",
       "      <td>0</td>\n",
       "      <td>0</td>\n",
       "      <td>1</td>\n",
       "      <td>0</td>\n",
       "      <td>0</td>\n",
       "      <td>0</td>\n",
       "    </tr>\n",
       "  </tbody>\n",
       "</table>\n",
       "<p>2 rows × 27 columns</p>\n",
       "</div>"
      ],
      "text/plain": [
       "   42  aber  an  answer  antwort  but  die  ein  einfaches  frage  ...  \\\n",
       "0   1     0   1       3        0    1    0    0          0      0  ...   \n",
       "1   0     0   0       0        0    0    0    0          0      0  ...   \n",
       "\n",
       "   pretty  print  question  simple  the  translation  welt  what  wie  world  \n",
       "0       1      2         1       1    2            1     0     1    0      1  \n",
       "1       0      2         0       0    0            0     1     0    0      0  \n",
       "\n",
       "[2 rows x 27 columns]"
      ]
     },
     "metadata": {},
     "output_type": "display_data"
    }
   ],
   "source": [
    "verbose(1,pd.DataFrame(bag_of_words.toarray(), columns=feature_names).head(2))"
   ]
  },
  {
   "cell_type": "markdown",
   "metadata": {},
   "source": [
    "TfIdf\n",
    "----\n",
    "\n",
    "  * https://scikit-learn.org/stable/modules/generated/sklearn.feature_extraction.text.TfidfTransformer.html#sklearn.feature_extraction.text.TfidfTransformer\n",
    "  * https://scikit-learn.org/stable/modules/feature_extraction.html#text-feature-extraction"
   ]
  },
  {
   "cell_type": "code",
   "execution_count": 12,
   "metadata": {},
   "outputs": [
    {
     "data": {
      "text/plain": [
       "TfidfTransformer(smooth_idf=False)"
      ]
     },
     "metadata": {},
     "output_type": "display_data"
    }
   ],
   "source": [
    "from sklearn.feature_extraction.text import TfidfTransformer\n",
    "transformer = TfidfTransformer(smooth_idf=False)\n",
    "verbose(1,transformer)"
   ]
  },
  {
   "cell_type": "code",
   "execution_count": 13,
   "metadata": {
    "lines_to_next_cell": 0
   },
   "outputs": [
    {
     "data": {
      "text/html": [
       "<div>\n",
       "<style scoped>\n",
       "    .dataframe tbody tr th:only-of-type {\n",
       "        vertical-align: middle;\n",
       "    }\n",
       "\n",
       "    .dataframe tbody tr th {\n",
       "        vertical-align: top;\n",
       "    }\n",
       "\n",
       "    .dataframe thead th {\n",
       "        text-align: right;\n",
       "    }\n",
       "</style>\n",
       "<table border=\"1\" class=\"dataframe\">\n",
       "  <thead>\n",
       "    <tr style=\"text-align: right;\">\n",
       "      <th></th>\n",
       "      <th>0</th>\n",
       "      <th>1</th>\n",
       "      <th>2</th>\n",
       "      <th>3</th>\n",
       "      <th>4</th>\n",
       "      <th>5</th>\n",
       "      <th>6</th>\n",
       "      <th>7</th>\n",
       "      <th>8</th>\n",
       "      <th>9</th>\n",
       "      <th>...</th>\n",
       "      <th>17</th>\n",
       "      <th>18</th>\n",
       "      <th>19</th>\n",
       "      <th>20</th>\n",
       "      <th>21</th>\n",
       "      <th>22</th>\n",
       "      <th>23</th>\n",
       "      <th>24</th>\n",
       "      <th>25</th>\n",
       "      <th>26</th>\n",
       "    </tr>\n",
       "  </thead>\n",
       "  <tbody>\n",
       "    <tr>\n",
       "      <th>0</th>\n",
       "      <td>0.146696</td>\n",
       "      <td>0.000000</td>\n",
       "      <td>0.219044</td>\n",
       "      <td>0.440089</td>\n",
       "      <td>0.000000</td>\n",
       "      <td>0.219044</td>\n",
       "      <td>0.000000</td>\n",
       "      <td>0.000000</td>\n",
       "      <td>0.000000</td>\n",
       "      <td>0.000000</td>\n",
       "      <td>...</td>\n",
       "      <td>0.219044</td>\n",
       "      <td>0.208751</td>\n",
       "      <td>0.219044</td>\n",
       "      <td>0.219044</td>\n",
       "      <td>0.438088</td>\n",
       "      <td>0.219044</td>\n",
       "      <td>0.000000</td>\n",
       "      <td>0.219044</td>\n",
       "      <td>0.000000</td>\n",
       "      <td>0.219044</td>\n",
       "    </tr>\n",
       "    <tr>\n",
       "      <th>1</th>\n",
       "      <td>0.000000</td>\n",
       "      <td>0.000000</td>\n",
       "      <td>0.000000</td>\n",
       "      <td>0.000000</td>\n",
       "      <td>0.000000</td>\n",
       "      <td>0.000000</td>\n",
       "      <td>0.000000</td>\n",
       "      <td>0.000000</td>\n",
       "      <td>0.000000</td>\n",
       "      <td>0.000000</td>\n",
       "      <td>...</td>\n",
       "      <td>0.000000</td>\n",
       "      <td>0.709297</td>\n",
       "      <td>0.000000</td>\n",
       "      <td>0.000000</td>\n",
       "      <td>0.000000</td>\n",
       "      <td>0.000000</td>\n",
       "      <td>0.498446</td>\n",
       "      <td>0.000000</td>\n",
       "      <td>0.000000</td>\n",
       "      <td>0.000000</td>\n",
       "    </tr>\n",
       "    <tr>\n",
       "      <th>2</th>\n",
       "      <td>0.151674</td>\n",
       "      <td>0.226477</td>\n",
       "      <td>0.000000</td>\n",
       "      <td>0.303348</td>\n",
       "      <td>0.226477</td>\n",
       "      <td>0.000000</td>\n",
       "      <td>0.452953</td>\n",
       "      <td>0.226477</td>\n",
       "      <td>0.226477</td>\n",
       "      <td>0.226477</td>\n",
       "      <td>...</td>\n",
       "      <td>0.000000</td>\n",
       "      <td>0.215835</td>\n",
       "      <td>0.000000</td>\n",
       "      <td>0.000000</td>\n",
       "      <td>0.000000</td>\n",
       "      <td>0.000000</td>\n",
       "      <td>0.151674</td>\n",
       "      <td>0.000000</td>\n",
       "      <td>0.226477</td>\n",
       "      <td>0.000000</td>\n",
       "    </tr>\n",
       "  </tbody>\n",
       "</table>\n",
       "<p>3 rows × 27 columns</p>\n",
       "</div>"
      ],
      "text/plain": [
       "         0         1         2         3         4         5         6   \\\n",
       "0  0.146696  0.000000  0.219044  0.440089  0.000000  0.219044  0.000000   \n",
       "1  0.000000  0.000000  0.000000  0.000000  0.000000  0.000000  0.000000   \n",
       "2  0.151674  0.226477  0.000000  0.303348  0.226477  0.000000  0.452953   \n",
       "\n",
       "         7         8         9   ...        17        18        19        20  \\\n",
       "0  0.000000  0.000000  0.000000  ...  0.219044  0.208751  0.219044  0.219044   \n",
       "1  0.000000  0.000000  0.000000  ...  0.000000  0.709297  0.000000  0.000000   \n",
       "2  0.226477  0.226477  0.226477  ...  0.000000  0.215835  0.000000  0.000000   \n",
       "\n",
       "         21        22        23        24        25        26  \n",
       "0  0.438088  0.219044  0.000000  0.219044  0.000000  0.219044  \n",
       "1  0.000000  0.000000  0.498446  0.000000  0.000000  0.000000  \n",
       "2  0.000000  0.000000  0.151674  0.000000  0.226477  0.000000  \n",
       "\n",
       "[3 rows x 27 columns]"
      ]
     },
     "metadata": {},
     "output_type": "display_data"
    }
   ],
   "source": [
    "tfidf = transformer.fit_transform(bag_of_words)\n",
    "verbose(1,pd.DataFrame(tfidf.toarray()))"
   ]
  },
  {
   "cell_type": "markdown",
   "metadata": {},
   "source": [
    "Cosine Similarity\n",
    "-------\n",
    "\n",
    "  * interessant, ggf. auch noch ausprobieren?:  https://stackoverflow.com/questions/17627219/whats-the-fastest-way-in-python-to-calculate-cosine-similarity-given-sparse-mat\n",
    "  \n",
    "Wir machen es hier eher low level, um unter die Motorhaube sehen zu können:\n",
    "  * https://scikit-learn.org/stable/modules/metrics.html#cosine-similarity\n",
    "  * didaktische Erklärung: http://blog.christianperone.com/2013/09/machine-learning-cosine-similarity-for-vector-space-models-part-iii/\n",
    "\n"
   ]
  },
  {
   "cell_type": "code",
   "execution_count": 14,
   "metadata": {},
   "outputs": [
    {
     "data": {
      "text/plain": [
       "array([[1.        , 0.14806678, 0.22305608],\n",
       "       [0.14806678, 1.        , 0.3042937 ],\n",
       "       [0.22305608, 0.3042937 , 1.        ]])"
      ]
     },
     "metadata": {},
     "output_type": "display_data"
    }
   ],
   "source": [
    "from sklearn.metrics.pairwise import cosine_similarity\n",
    "similarity = cosine_similarity(tfidf)\n",
    "verbose(2,similarity)"
   ]
  },
  {
   "cell_type": "code",
   "execution_count": 15,
   "metadata": {},
   "outputs": [
    {
     "data": {
      "image/png": "[encoded data removed]",
      "text/plain": [
       "<Figure size 720x720 with 4 Axes>"
      ]
     },
     "metadata": {
      "needs_background": "light"
     },
     "output_type": "display_data"
    }
   ],
   "source": [
    "import seaborn as sns\n",
    "mask = np.zeros_like(similarity)\n",
    "mask[np.triu_indices_from(mask)] = True\n",
    "#ax = sns.heatmap(index, mask=mask)\n",
    "ax = sns.clustermap(similarity)\n",
    "ax.savefig(\"clustermap.png\")"
   ]
  },
  {
   "cell_type": "markdown",
   "metadata": {},
   "source": [
    "\n",
    "\n",
    "https://docs.scipy.org/doc/scipy/reference/generated/scipy.cluster.hierarchy.linkage.html\n",
    "    "
   ]
  }
 ],
 "metadata": {
  "kernelspec": {
   "display_name": "Python 3",
   "language": "python",
   "name": "python3"
  },
  "language_info": {
   "codemirror_mode": {
    "name": "ipython",
    "version": 3
   },
   "file_extension": ".py",
   "mimetype": "text/x-python",
   "name": "python",
   "nbconvert_exporter": "python",
   "pygments_lexer": "ipython3",
   "version": "3.8.3"
  }
 },
 "nbformat": 4,
 "nbformat_minor": 4
}
