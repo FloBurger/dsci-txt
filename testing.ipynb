{
 "cells": [
  {
   "cell_type": "code",
   "execution_count": 1,
   "id": "conservative-wagon",
   "metadata": {},
   "outputs": [
    {
     "name": "stdout",
     "output_type": "stream",
     "text": [
      "============================= test session starts ==============================\n",
      "platform linux -- Python 3.9.2, pytest-6.2.3, py-1.10.0, pluggy-0.13.1 -- /home/fburger/anaconda3/envs/dsci-txt/bin/python\n",
      "cachedir: .pytest_cache\n",
      "rootdir: /home/fburger/TextMining\n",
      "plugins: jupyter-pytest-2-1.0.1, notebook-0.6.1, anyio-2.2.0\n",
      "collecting ... collected 1 item\n",
      "\n",
      "::test_moin PASSED                                                       [100%]\n",
      "\n",
      "============================== 1 passed in 0.01s ===============================\n"
     ]
    },
    {
     "data": {
      "text/plain": [
       "<ExitCode.OK: 0>"
      ]
     },
     "execution_count": 1,
     "metadata": {},
     "output_type": "execute_result"
    }
   ],
   "source": [
    "import pytest\n",
    "\n",
    "@pytest.fixture()\n",
    "def moin():\n",
    "    return 'moin'\n",
    "\n",
    "def test_moin(moin):\n",
    "    assert moin == 'moin'\n",
    "\n",
    "pytest.main(args=['-v'])"
   ]
  },
  {
   "cell_type": "code",
   "execution_count": 2,
   "id": "corresponding-flood",
   "metadata": {},
   "outputs": [
    {
     "name": "stdout",
     "output_type": "stream",
     "text": [
      "============================= test session starts ==============================\n",
      "platform linux -- Python 3.9.2, pytest-6.2.3, py-1.10.0, pluggy-0.13.1 -- /home/fburger/anaconda3/envs/dsci-txt/bin/python\n",
      "cachedir: .pytest_cache\n",
      "rootdir: /home/fburger/TextMining\n",
      "plugins: jupyter-pytest-2-1.0.1, notebook-0.6.1, anyio-2.2.0\n",
      "collecting ... collected 4 items\n",
      "\n",
      "::test_moin PASSED\n",
      "::test_foo[1] PASSED\n",
      "::test_foo[2] PASSED\n",
      "::test_foo[3] PASSED\n",
      "\n",
      "============================== 4 passed in 0.02s ===============================\n"
     ]
    },
    {
     "data": {
      "text/plain": [
       "<ExitCode.OK: 0>"
      ]
     },
     "execution_count": 2,
     "metadata": {},
     "output_type": "execute_result"
    }
   ],
   "source": [
    "import pytest\n",
    "\n",
    "some_out_of_test_object = 'Hello, world!'\n",
    "\n",
    "# Cell\n",
    "\n",
    "@pytest.fixture(params=[1,2,3])\n",
    "def foo(request):\n",
    "  return request.param\n",
    "  \n",
    "# Cell\n",
    "\n",
    "def test_foo(foo):\n",
    "  assert some_out_of_test_object == 'Hello, world!'\n",
    "  assert isinstance(foo, int)\n",
    "  \n",
    "# Cell\n",
    "\n",
    "pytest.main(args=['-sv'])"
   ]
  },
  {
   "cell_type": "code",
   "execution_count": null,
   "id": "right-consensus",
   "metadata": {},
   "outputs": [],
   "source": []
  }
 ],
 "metadata": {
  "kernelspec": {
   "display_name": "dsci-txt",
   "language": "python",
   "name": "dsci-txt"
  },
  "language_info": {
   "codemirror_mode": {
    "name": "ipython",
    "version": 3
   },
   "file_extension": ".py",
   "mimetype": "text/x-python",
   "name": "python",
   "nbconvert_exporter": "python",
   "pygments_lexer": "ipython3",
   "version": "3.9.2"
  }
 },
 "nbformat": 4,
 "nbformat_minor": 5
}
